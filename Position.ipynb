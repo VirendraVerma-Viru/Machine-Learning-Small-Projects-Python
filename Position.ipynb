{
 "cells": [
  {
   "cell_type": "code",
   "execution_count": 33,
   "metadata": {},
   "outputs": [
    {
     "name": "stdout",
     "output_type": "stream",
     "text": [
      "            Position  Level   Salary\n",
      "0   Business Analyst      1    45000\n",
      "1  Junior Consultant      2    50000\n",
      "2  Senior Consultant      3    60000\n",
      "3            Manager      4    80000\n",
      "4    Country Manager      5   110000\n",
      "5     Region Manager      6   150000\n",
      "6            Partner      7   200000\n",
      "7     Senior Partner      8   300000\n",
      "8            C-level      9   500000\n",
      "9                CEO     10  1000000\n"
     ]
    },
    {
     "data": {
      "image/png": "[encoded data removed]",
      "text/plain": [
       "<Figure size 432x288 with 1 Axes>"
      ]
     },
     "metadata": {
      "needs_background": "light"
     },
     "output_type": "display_data"
    },
    {
     "name": "stdout",
     "output_type": "stream",
     "text": [
      "[295889.27739011]\n"
     ]
    }
   ],
   "source": [
    "import numpy as np\n",
    "import pandas\n",
    "\n",
    "dataset=pandas.read_csv(\"Position_Salaries.csv\")\n",
    "dataset=dataset.dropna()\n",
    "print(dataset)\n",
    "\n",
    "\n",
    "\n",
    "X=dataset.iloc[:,1].values\n",
    "Y=dataset.iloc[:,2].values\n",
    "\n",
    "X=X.reshape(-1,1)\n",
    "\n",
    "\"\"\"from sklearn.preprocessing import LabelEncoder\n",
    "labelEncoder=LabelEncoder()\n",
    "X=labelEncoder.fit_transform(X)#and then transform the data\n",
    "print(X)\n",
    "\"\"\"\n",
    "\n",
    "from sklearn.linear_model import LinearRegression\n",
    "regressor =LinearRegression()\n",
    "regressor.fit(X,Y)\n",
    "\n",
    "y_predict=regressor.predict(X)\n",
    "\n",
    "\n",
    "\n",
    "\n",
    "y_pred=regressor.predict([[11]])\n",
    "y_pred\n",
    "\n",
    "\n",
    "from sklearn.preprocessing import PolynomialFeatures\n",
    "poly_reg=PolynomialFeatures(degree=6)\n",
    "X_poly=poly_reg.fit_transform(X)\n",
    "regressionPolynomial = LinearRegression()#is used for one input and one output\n",
    "regressionPolynomial.fit(X_poly,Y)\n",
    "y_predict_poly=regressionPolynomial.predict(X_poly)\n",
    "\n",
    "\n",
    "import matplotlib.pyplot as plt\n",
    "plt.scatter(X,Y,color=\"red\")\n",
    "plt.plot(X,y_predict,color=\"green\")\n",
    "plt.plot(X,y_predict_poly,color=\"blue\")\n",
    "plt.show()\n",
    "\n",
    "p=regressionPolynomial.predict(poly_reg.transform([[8]]))\n",
    "print(p)"
   ]
  },
  {
   "cell_type": "code",
   "execution_count": null,
   "metadata": {},
   "outputs": [],
   "source": []
  }
 ],
 "metadata": {
  "kernelspec": {
   "display_name": "Python 3",
   "language": "python",
   "name": "python3"
  },
  "language_info": {
   "codemirror_mode": {
    "name": "ipython",
    "version": 3
   },
   "file_extension": ".py",
   "mimetype": "text/x-python",
   "name": "python",
   "nbconvert_exporter": "python",
   "pygments_lexer": "ipython3",
   "version": "3.7.4"
  }
 },
 "nbformat": 4,
 "nbformat_minor": 4
}
